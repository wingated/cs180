{
  "cells": [
    {
      "cell_type": "markdown",
      "metadata": {
        "id": "IPir_6bCCFnZ"
      },
      "source": [
        "<a href=\"https://colab.research.google.com/github/wingated/cs180/blob/main/data_science_labs/data_science_lab_13.ipynb\" target=\"_parent\"><img src=\"https://colab.research.google.com/assets/colab-badge.svg\" alt=\"Open In Colab\"/></a><p><b>After clicking the \"Open in Colab\" link, copy the notebook to your own Google Drive before getting started, or it will not save your work</b></p>"
      ]
    },
    {
      "cell_type": "markdown",
      "metadata": {
        "id": "_slaQdUGCB0t"
      },
      "source": [
        "# BYU CS 180 Lab 13: MLP and Backprop"
      ]
    },
    {
      "cell_type": "markdown",
      "metadata": {
        "id": "FHzFQ2fUT6mg"
      },
      "source": [
        "In this lab, you will create and train a simple deep neural network. There are many frameworks for designing, training, testing and debugging DNNs.  These include low-level frameworks, such as CUDA, pytorch and tensorflow, and much higher-level GUIs that allow you to easily design and train your net. You will implement a simple DNN using the scikit-learn MLPClassifier to perform classification on the following weather dataset. Use the 'Rain' feature as the target.\n",
        "\n"
      ]
    },
    {
      "cell_type": "markdown",
      "metadata": {
        "id": "IDRQnPU9S9G4"
      },
      "source": [
        "Here is the documentation for the Scikit-Learn MLP Classifier\n",
        "https://scikit-learn.org/stable/modules/generated/sklearn.neural_network.MLPClassifier.html"
      ]
    },
    {
      "cell_type": "code",
      "execution_count": null,
      "metadata": {
        "id": "5IeuiWZO-tKI"
      },
      "outputs": [],
      "source": [
        "import pandas as pd\n",
        "import numpy as np\n",
        "from sklearn.model_selection import train_test_split\n",
        "from sklearn.preprocessing import StandardScaler\n",
        "from sklearn.neural_network import MLPClassifier\n",
        "from sklearn.linear_model import LogisticRegression\n",
        "from sklearn.ensemble import RandomForestClassifier\n",
        "from sklearn.metrics import accuracy_score, classification_report\n",
        "import seaborn as sns\n",
        "import matplotlib.pyplot as plt"
      ]
    },
    {
      "cell_type": "code",
      "execution_count": null,
      "metadata": {
        "colab": {
          "base_uri": "https://localhost:8080/"
        },
        "id": "apI44ggn_A1l",
        "outputId": "f240af19-b6a2-4e09-9340-141d8026c8d7"
      },
      "outputs": [],
      "source": [
        "# Load in data\n",
        "import kagglehub\n",
        "\n",
        "# Download latest version\n",
        "path = kagglehub.dataset_download(\"zeeshier/weather-forecast-dataset\")\n",
        "print(path)\n",
        "df = pd.read_csv(f'{path}/weather_forecast_data.csv')"
      ]
    },
    {
      "cell_type": "code",
      "execution_count": null,
      "metadata": {
        "colab": {
          "base_uri": "https://localhost:8080/",
          "height": 206
        },
        "id": "XpgQRZAXR7PT",
        "outputId": "16c7836e-f601-49d0-a60e-e2983d2cf33b"
      },
      "outputs": [],
      "source": [
        "df.head()"
      ]
    },
    {
      "cell_type": "code",
      "execution_count": null,
      "metadata": {
        "id": "1yI52lA8SQCS"
      },
      "outputs": [],
      "source": []
    },
    {
      "cell_type": "markdown",
      "metadata": {
        "id": "3Okww76GEQ7B"
      },
      "source": [
        "## Task 1\n",
        "Perform a simple exploratory analysis on the data (plot the distribution of malignant vs benign cases, make a feature important plot, etc.). Then split the data into a train and test set, using the 'target' column as your target."
      ]
    },
    {
      "cell_type": "code",
      "execution_count": null,
      "metadata": {
        "id": "n7Fs4KaIMzu7"
      },
      "outputs": [],
      "source": [
        "# TODO: Simple EDA"
      ]
    },
    {
      "cell_type": "code",
      "execution_count": null,
      "metadata": {
        "id": "lktbIyfc_udW"
      },
      "outputs": [],
      "source": [
        "# TODO: Split Data into train and test"
      ]
    },
    {
      "cell_type": "markdown",
      "metadata": {
        "id": "5DuI4u5PM7gE"
      },
      "source": [
        "## Task 2\n",
        "Your next task is to experiment with various MLP architectures to find an optimal model. This will require playing around with different numbers and sizes of hidden layers, trying different activation functions, and finding other hyperparameters to play around with. Use the accuracy_score() function on your test set as your metric."
      ]
    },
    {
      "cell_type": "code",
      "execution_count": null,
      "metadata": {
        "colab": {
          "base_uri": "https://localhost:8080/"
        },
        "id": "lfBE_M-WNNTq",
        "outputId": "4fba9699-6840-4046-803b-d9e0b4d81d27"
      },
      "outputs": [],
      "source": [
        "# TODO: Build and fit a simple MLP\n",
        "\n",
        "# TODO: Test different architectures (adjust the 'hidden_layer_sizes' value)\n",
        "\n",
        "# TODO: Test different activation functions\n"
      ]
    },
    {
      "cell_type": "markdown",
      "metadata": {
        "id": "3I7dVvc9Rxnj"
      },
      "source": [
        "What number of hidden layers worked best for you? What size were they? Why do you think this architecture worked better than others?"
      ]
    },
    {
      "cell_type": "markdown",
      "metadata": {
        "id": "4WPFq-3iSDFR"
      },
      "source": []
    },
    {
      "cell_type": "markdown",
      "metadata": {
        "id": "FfVBqYyfSCMw"
      },
      "source": [
        "Briefly read into the different activation functions and what makes each one unique. Which one worked best for you? Why do you think that is?"
      ]
    },
    {
      "cell_type": "markdown",
      "metadata": {
        "id": "2E-C9MU-ST_S"
      },
      "source": []
    },
    {
      "cell_type": "markdown",
      "metadata": {
        "id": "OeQDD2MXRj6-"
      },
      "source": [
        "## Task 3\n",
        "Fit a random forest and logistic regression to this same dataset. See how their performance compares to your best MLP. These libaries are already imported. Documentation can be found at the following links.\n",
        "\n",
        "- https://scikit-learn.org/stable/modules/generated/sklearn.ensemble.RandomForestClassifier.html\n",
        "- https://scikit-learn.org/stable/modules/generated/sklearn.linear_model.LogisticRegression.html"
      ]
    },
    {
      "cell_type": "code",
      "execution_count": null,
      "metadata": {
        "colab": {
          "base_uri": "https://localhost:8080/"
        },
        "id": "oHgNIB-YRuGX",
        "outputId": "db1f3c6b-5c7a-43a2-e07b-f040bd8b0ff6"
      },
      "outputs": [],
      "source": [
        "# TODO: Implement random forest\n"
      ]
    },
    {
      "cell_type": "code",
      "execution_count": null,
      "metadata": {
        "colab": {
          "base_uri": "https://localhost:8080/"
        },
        "id": "P7aFbKCHTkMs",
        "outputId": "733da23a-ba93-4f20-daa9-cc97a5c86fd8"
      },
      "outputs": [],
      "source": [
        "# TODO: Implement logistic regression"
      ]
    },
    {
      "cell_type": "markdown",
      "metadata": {
        "id": "f_vFxs5ATKIe"
      },
      "source": [
        "How does the MLP compare to Logistic Regression and Random Forest?"
      ]
    },
    {
      "cell_type": "markdown",
      "metadata": {
        "id": "BxbxHkJxTZVZ"
      },
      "source": []
    },
    {
      "cell_type": "markdown",
      "metadata": {
        "id": "TPX8FUU1TYzi"
      },
      "source": [
        "What are the tradeoffs between model complexity and model interpretability?"
      ]
    },
    {
      "cell_type": "markdown",
      "metadata": {
        "id": "9scX9xgzTfdC"
      },
      "source": []
    }
  ],
  "metadata": {
    "colab": {
      "provenance": []
    },
    "kernelspec": {
      "display_name": "Python 3",
      "name": "python3"
    },
    "language_info": {
      "name": "python"
    }
  },
  "nbformat": 4,
  "nbformat_minor": 0
}
