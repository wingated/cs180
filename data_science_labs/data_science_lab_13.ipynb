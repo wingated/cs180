{
  "cells": [
    {
      "cell_type": "markdown",
      "metadata": {
        "id": "IPir_6bCCFnZ"
      },
      "source": [
        "<a href=\"https://colab.research.google.com/github/wingated/cs180/blob/main/data_science_labs/data_science_lab_13.ipynb\" target=\"_parent\"><img src=\"https://colab.research.google.com/assets/colab-badge.svg\" alt=\"Open In Colab\"/></a><p><b>After clicking the \"Open in Colab\" link, copy the notebook to your own Google Drive before getting started, or it will not save your work</b></p>"
      ]
    },
    {
      "cell_type": "markdown",
      "metadata": {
        "id": "_slaQdUGCB0t"
      },
      "source": [
        "# BYU CS 180 Lab 13: MLP and Backprop"
      ]
    },
    {
      "cell_type": "markdown",
      "metadata": {},
      "source": [
        "In this lab, you will create and train a simple deep neural network. There are many frameworks for designing, training, testing and debugging DNNs.  These include low-level frameworks, such as CUDA, pytorch and tensorflow, and much higher-level GUIs that allow you to easily design and train your net.\n",
        "\n",
        "For this lab, we will be using a high-level GUI from Nvidia called \"Nsight DL Designer\". It can be downloaded for free from:\n",
        "\n",
        "https://developer.nvidia.com/nsight-dl-designer/getting-started\n",
        "\n",
        "(Windows and Linux only). From there, you can download a \"run file\", which is a self-contained executable.  On Linux, you may need to change its permissions so that it is executable, with a command like this:\n",
        "\n",
        "```bash\n",
        "$ chmod a+x ./NVIDIA_DeepLearning_2022.2.22270.0840_Rel_DLD_Release_Public-Linux.run\n",
        "```\n",
        "\n",
        "Then, you can execute the program, and it will install itself:\n",
        "\n",
        "```bash\n",
        "$ ./NVIDIA_DeepLearning_2022.2.22270.0840_Rel_DLD_Release_Public-Linux.run\n",
        "```\n",
        "\n",
        "After installation, you can run it with a command like this:\n",
        "\n",
        "```bash\n",
        "$ ~/nvidia/NVIDIA-Nsight-DL-Designer-2022.2/host/linux-desktop-dl-x64/nsight-dl\n",
        "```\n",
        "\n"
      ]
    },
    {
      "cell_type": "markdown",
      "metadata": {},
      "source": []
    }
  ],
  "metadata": {
    "colab": {
      "provenance": []
    },
    "kernelspec": {
      "display_name": "Python 3",
      "name": "python3"
    },
    "language_info": {
      "name": "python"
    }
  },
  "nbformat": 4,
  "nbformat_minor": 0
}
