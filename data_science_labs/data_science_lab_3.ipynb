{
 "cells": [
  {
   "cell_type": "markdown",
   "metadata": {
    "id": "IPir_6bCCFnZ"
   },
   "source": [
    "<a href=\"https://colab.research.google.com/github/wingated/cs180/blob/main/data_science_labs/data_science_lab_3.ipynb\" target=\"_parent\"><img src=\"https://colab.research.google.com/assets/colab-badge.svg\" alt=\"Open In Colab\"/></a><p><b>After clicking the \"Open in Colab\" link, copy the notebook to your own Google Drive before getting started, or it will not save your work</b></p>"
   ]
  },
  {
   "cell_type": "markdown",
   "metadata": {
    "id": "_slaQdUGCB0t"
   },
   "source": [
    "# BYU CS 180 Lab 3: Intro to Pandas"
   ]
  },
  {
   "cell_type": "code",
   "execution_count": 3,
   "metadata": {
    "id": "fGjI7E--SCMm"
   },
   "outputs": [],
   "source": [
    "import pandas as pd\n",
    "import numpy as np\n",
    "import matplotlib.pyplot as plt"
   ]
  },
  {
   "cell_type": "markdown",
   "metadata": {
    "id": "cWl9h-eZRAzK"
   },
   "source": [
    "## Introduction:\n",
    "Welcome to your first pandas lab!\n",
    "\n",
    "Much of this lab has been adapted from this [link](https://acme.byu.edu/0000017c-ccff-da17-a5fd-cdff03a50000/acmefiles-09-pandas1-2021-pdf) pandas introduction lab from the ACME major. Feel free to read through it and use it as you complete this lab.\n",
    "\n",
    "Lab Objective:\n",
    "\n",
    "The goal of this lab is for you to become more comfortable in Python's pandas library. We'll introduce you to pandas data structures, syntax, and powerful capacity."
   ]
  },
  {
   "cell_type": "markdown",
   "metadata": {
    "id": "KZeucaVmRqnw"
   },
   "source": [
    "### Important Hints\n",
    "Notice that most of the functions we learn about in this lab return new values. In order to save these values, we must store them.\n",
    "\n",
    "For example, df.drop(columns=['column1']) will drop the column1 from df, but we must call df = df.drop(columns=['column1']) to store the changed dataframe."
   ]
  },
  {
   "cell_type": "markdown",
   "metadata": {
    "id": "zJfyE75cR4LW"
   },
   "source": [
    "#### Series:\n",
    "The following cell creates a pandas series, which is essentially a list with an index for each entry in the list. The index is generally used as a label for the data."
   ]
  },
  {
   "cell_type": "code",
   "execution_count": 6,
   "metadata": {
    "colab": {
     "base_uri": "https://localhost:8080/"
    },
    "id": "magqKCAfR97q",
    "outputId": "0aeb5d4f-a5c0-47ce-84c8-f898e23a8ce9"
   },
   "outputs": [
    {
     "name": "stdout",
     "output_type": "stream",
     "text": [
      "Mark       80\n",
      "Barbara    96\n",
      "Eleanor    78\n",
      "David      59\n",
      "dtype: int64\n"
     ]
    }
   ],
   "source": [
    "math = pd.Series([80,96,78,59],['Mark','Barbara','Eleanor','David'])\n",
    "print(math)"
   ]
  },
  {
   "cell_type": "markdown",
   "metadata": {
    "id": "TixHmeT3SKR5"
   },
   "source": [
    "Notice that each element in the above series 'math' is a number 1-100, and each of these elements are labeled with a name. The dtype (data type) of this series is an int64. Let's say these numbers represent each student's grade in their math class."
   ]
  },
  {
   "cell_type": "markdown",
   "metadata": {
    "id": "tdeecXfuRjA6"
   },
   "source": [
    "## Exercise 1: Pandas Series\n",
    "\n",
    "Create a pandas series of type int64 called 'english' storing our four student's english grades:\n",
    "\n",
    "Mark -> 90\n",
    "\n",
    "Barbara -> 87\n",
    "\n",
    "Eleanor -> 97\n",
    "\n",
    "David -> 65"
   ]
  },
  {
   "cell_type": "code",
   "execution_count": null,
   "metadata": {
    "id": "hH7YeTWPRios"
   },
   "outputs": [],
   "source": [
    "#Create a pandas series below:\n",
    "english = #insert series here"
   ]
  },
  {
   "cell_type": "markdown",
   "metadata": {
    "id": "coQOymwLSppB"
   },
   "source": [
    "**DataFrame**\n",
    "\n",
    "The next, and most important, data structure in pandas is the DataFrame. A DataFrame is a collection of multiple Series objects, and it is essentially a 2d array/list with each row labeled by an index, and each column labeled as a column.\n",
    "\n",
    "Below we initialize a DataFrame, 'simple_grades', using the 'math' and 'english' Series that we created above."
   ]
  },
  {
   "cell_type": "code",
   "execution_count": null,
   "metadata": {
    "id": "OMRUvJvfSsrm"
   },
   "outputs": [],
   "source": [
    "simple_grades = pd.DataFrame({\"Math\": math, \"English\": english})\n",
    "print(simple_grades)"
   ]
  },
  {
   "cell_type": "markdown",
   "metadata": {
    "id": "g4JeMTcITBBu"
   },
   "source": [
    "Notice that we now have numbers that are labelled twice. Mark's English grade is an 90. Eleanor's Math grade is a 78.\n",
    "\n",
    "We can also initialize a DataFame using a NumPy array, since pandas is built on top of NumPy. We do that below and call it 'grades'."
   ]
  },
  {
   "cell_type": "code",
   "execution_count": 20,
   "metadata": {
    "id": "mqgP1QA5TE4o"
   },
   "outputs": [],
   "source": [
    "data = np.array([[52.0, 73.0], [10.0, 39.0], [35.0, np.nan], [np.nan, 26.0],[np.nan,99.0],[81.0,68.0]])\n",
    "grades = pd.DataFrame(data, columns = ['Math', 'English'], index = ['Barbara','David','Eleanor','Greg','Lauren','Mark'])\n"
   ]
  },
  {
   "cell_type": "code",
   "execution_count": null,
   "metadata": {
    "id": "LejlXPWRT1Wm"
   },
   "outputs": [],
   "source": [
    "# look at the column labels of grades\n",
    "print(grades.columns)\n",
    "# look at the index labels of grades\n",
    "print(grades.index)\n",
    "# look at the values (2d array) of grades\n",
    "print(grades.values)"
   ]
  },
  {
   "cell_type": "markdown",
   "metadata": {
    "id": "EZKzdeDXT5S9"
   },
   "source": [
    "## Exercise 2:\n",
    "To access data in a DataFrame, we use the .loc and the .iloc indexers.\n",
    "\n",
    "The .loc index selects rows and columns based on their labels\n"
   ]
  },
  {
   "cell_type": "code",
   "execution_count": null,
   "metadata": {
    "id": "dA0tJ_1oUNVv"
   },
   "outputs": [],
   "source": [
    "grades.loc[['David','Greg'],'Math']"
   ]
  },
  {
   "cell_type": "markdown",
   "metadata": {
    "id": "3ewyp61yUOy_"
   },
   "source": [
    "Where the .iloc selects rows and columns based on their integer position"
   ]
  },
  {
   "cell_type": "code",
   "execution_count": null,
   "metadata": {
    "id": "ISI8HCQXUSjq"
   },
   "outputs": [],
   "source": [
    "grades.iloc[[1,3],0]"
   ]
  },
  {
   "cell_type": "markdown",
   "metadata": {
    "id": "FGjsR_nJVutE"
   },
   "source": [
    "Use `.loc` to print Eleanor and Mark's grades in both English and Math"
   ]
  },
  {
   "cell_type": "code",
   "execution_count": null,
   "metadata": {
    "id": "bTPN4sENVt97"
   },
   "outputs": [],
   "source": [
    "#Enter the code here to print both Eleanor and Marks Grades"
   ]
  },
  {
   "cell_type": "markdown",
   "metadata": {
    "id": "beRG_4bTVLg2"
   },
   "source": [
    "You can also access an entire column of a DataFrame by using simple square brackets and the name of the column."
   ]
  },
  {
   "cell_type": "code",
   "execution_count": null,
   "metadata": {
    "id": "tIjjh5GEVKu1"
   },
   "outputs": [],
   "source": [
    "grades['Math']"
   ]
  },
  {
   "cell_type": "markdown",
   "metadata": {
    "id": "jLDBC2SaVTel"
   },
   "source": [
    "Using the same logic, we can also create a new column using either a numpy array, a list, or a single value. "
   ]
  },
  {
   "cell_type": "code",
   "execution_count": null,
   "metadata": {
    "id": "p6rtzhEmVTJO"
   },
   "outputs": [],
   "source": [
    "grades['History'] = np.random.randint(0,100,6)\n",
    "grades['History'] = 100"
   ]
  },
  {
   "cell_type": "markdown",
   "metadata": {
    "id": "jpG-hw8cVavh"
   },
   "source": [
    "To view the beginning of a DataFrame, we can use .head(n). This makes it a lot easier to get an idea of what the data look like without printing the entire dataframe (especially when the df is huge!)."
   ]
  },
  {
   "cell_type": "code",
   "execution_count": null,
   "metadata": {
    "id": "LIkWW7sNVdUH"
   },
   "outputs": [],
   "source": [
    "grades.head(3)"
   ]
  },
  {
   "cell_type": "markdown",
   "metadata": {
    "id": "IRol43jLVkSi"
   },
   "source": [
    "You can also use .reindex to change the order of either the rows or columns, and .sort_values to sort the DataFrame by a specified column value."
   ]
  },
  {
   "cell_type": "code",
   "execution_count": null,
   "metadata": {
    "id": "y4abXuEQVfSK"
   },
   "outputs": [],
   "source": [
    "grades.reindex(columns=['English','Math','History'])\n",
    "grades.sort_values('Math',ascending=False)"
   ]
  },
  {
   "cell_type": "markdown",
   "metadata": {
    "id": "FakTfRwBWBDv"
   },
   "source": [
    "You can also drop columns from a dataframe by using df.drop(columns=[])"
   ]
  },
  {
   "cell_type": "code",
   "execution_count": null,
   "metadata": {
    "id": "QzUm52EPWFO9"
   },
   "outputs": [],
   "source": [
    "grades.drop(columns=['Math'])"
   ]
  },
  {
   "cell_type": "markdown",
   "metadata": {
    "id": "dB2YOQN1WO_C"
   },
   "source": [
    "## Exercise 3: Girlfriend Vs. Fortnite\n",
    "The costs.csv downloaded earlier contains an estimate of my costs over the past few semesters. You get to help me!\n",
    "* Read in the costs.csv file\n",
    "* Add a column called 'girlfriend' with all values set to 500\n",
    "* Reindex the columns such that the amount spent on rent is the first column and the other columns stay in the same order\n",
    "* Sort the DataFrame in descending order based on how much I spent on fortnite_skins\n",
    "* Reset all the values in the rent column to 1000"
   ]
  },
  {
   "cell_type": "code",
   "execution_count": null,
   "metadata": {
    "id": "SdJbrjG-Wmbl"
   },
   "outputs": [],
   "source": [
    "#Girl Friend Data\n",
    "!curl -o costs.csv https://raw.githubusercontent.com/wingated/cs180_labs/main/costs.csv"
   ]
  },
  {
   "cell_type": "code",
   "execution_count": null,
   "metadata": {
    "id": "Xx3i9MVhWdeE"
   },
   "outputs": [],
   "source": [
    "#Enter the code for the question above here:\n"
   ]
  },
  {
   "cell_type": "markdown",
   "metadata": {
    "id": "s7GyXbDOWxW_"
   },
   "source": [
    "## Exercise 4: Means on Columns\n",
    "Calculate the mean cost of each column in the costs DataFrame in the cell below. (Hint: use the DataFrame.mean() function!)"
   ]
  },
  {
   "cell_type": "code",
   "execution_count": null,
   "metadata": {
    "id": "aQ2fLWq9W5v0"
   },
   "outputs": [],
   "source": [
    "#Mean cost of each column"
   ]
  },
  {
   "cell_type": "markdown",
   "metadata": {
    "id": "dRzzQe0fXGBI"
   },
   "source": []
  },
  {
   "cell_type": "markdown",
   "metadata": {
    "id": "staKCHIDW8f5"
   },
   "source": [
    "## Exercise 5: Supplements\n",
    "\n",
    "Now we will return to the grades DataFrame that we created earlier.\n",
    "\n",
    "Dealing with missing data is a difficult topic in data science. The pandas default for missing values is NaN. These can be difficult to deal with because any operation (addition, multiplication, etc) involving an NaN value will always result in an NaN, so finding the mean of a column or adding up all the rows will be meaningless.\n",
    "\n",
    "What do we do with NaN values? The answer is always: it depends, but we should also ask: why do we have missing values? It could be that some people only filled out half the survey, it could be that the data should read 0.0 but it wasn't filled out. It could mean (in our example) that the student isn't enrolled in that class. It could be many reasons, and we should always figure them out first!\n",
    "\n",
    "In pandas we can do a couple things with NaN values.\n",
    "\n",
    "To drop all rows containing NaN values, we can simply call DataFrame.dropna()\n",
    "\n",
    "\n",
    "Or we could fill the NaN values with a specified value, like 0.0:"
   ]
  },
  {
   "cell_type": "code",
   "execution_count": null,
   "metadata": {
    "id": "6JfHZN_qXRyI"
   },
   "outputs": [],
   "source": [
    "grades.fillna(0.0)"
   ]
  },
  {
   "cell_type": "markdown",
   "metadata": {
    "id": "Ei5ryprMXdnz"
   },
   "source": [
    "The supplements.csv downloaded below contains vitamin information (in mg) for 20 different supplements I'm considering as I get ready for summer:\n",
    "* Read in the supplements.csv file\n",
    "* Fill all the na values using method='bfill' (HINT: put method='bfill' in the function call! Google it if you're confused)\n",
    "* Sort the DataFrame by my most important vitamin, vitamin b6, in descending order\n",
    "* Use .drop() to create a new df, subset_df, containing all the vitamins in the supplements file except vitamin_d\n",
    "* Create a boxplot of all columns in subset_df (hint - make sure to call plt.show() at the end!!)"
   ]
  },
  {
   "cell_type": "code",
   "execution_count": null,
   "metadata": {
    "id": "ZeuAC2MQXehH"
   },
   "outputs": [],
   "source": [
    "!curl -o supplements.csv https://raw.githubusercontent.com/porterjenkins/CS180/main/data/supplements.csv"
   ]
  },
  {
   "cell_type": "code",
   "execution_count": null,
   "metadata": {
    "id": "ANAkE7cmXvCl"
   },
   "outputs": [],
   "source": [
    "#Enter your code in here for question #5"
   ]
  },
  {
   "cell_type": "markdown",
   "metadata": {
    "id": "EyNqaFPwX1xa"
   },
   "source": [
    "## Exercise 6\n",
    "Write something that you noticed in the supplements data. Feel free to poke around, plot some more things, and find something interesting!"
   ]
  },
  {
   "cell_type": "code",
   "execution_count": null,
   "metadata": {
    "id": "ojSLdw_OX5cW"
   },
   "outputs": [],
   "source": [
    "# Exploratory Data Analysis"
   ]
  },
  {
   "cell_type": "markdown",
   "metadata": {
    "id": "bC9o61ZdX9cZ"
   },
   "source": [
    "Enter something cool that you found out here."
   ]
  }
 ],
 "metadata": {
  "colab": {
   "provenance": []
  },
  "kernelspec": {
   "display_name": "Python 3 (ipykernel)",
   "language": "python",
   "name": "python3"
  },
  "language_info": {
   "codemirror_mode": {
    "name": "ipython",
    "version": 3
   },
   "file_extension": ".py",
   "mimetype": "text/x-python",
   "name": "python",
   "nbconvert_exporter": "python",
   "pygments_lexer": "ipython3",
   "version": "3.9.13"
  }
 },
 "nbformat": 4,
 "nbformat_minor": 1
}
